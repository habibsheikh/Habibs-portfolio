{
 "cells": [
  {
   "cell_type": "code",
   "execution_count": 7,
   "metadata": {},
   "outputs": [],
   "source": [
    "\n",
    "\n",
    "#Opening the Play store data and storing it as a list of lists#\n",
    "opened_file = open('googleplaystore.csv', encoding = 'utf8')\n",
    "from csv import reader\n",
    "read_file = reader(opened_file)\n",
    "Playstoredata = list(read_file)\n",
    "Playstoreheader= Playstoredata[0]\n",
    "Playstore = Playstoredata[1:]"
   ]
  }
 ],
 "metadata": {
  "kernelspec": {
   "display_name": "Python 3",
   "language": "python",
   "name": "python3"
  },
  "language_info": {
   "codemirror_mode": {
    "name": "ipython",
    "version": 3
   },
   "file_extension": ".py",
   "mimetype": "text/x-python",
   "name": "python",
   "nbconvert_exporter": "python",
   "pygments_lexer": "ipython3",
   "version": "3.7.3"
  }
 },
 "nbformat": 4,
 "nbformat_minor": 2
}
