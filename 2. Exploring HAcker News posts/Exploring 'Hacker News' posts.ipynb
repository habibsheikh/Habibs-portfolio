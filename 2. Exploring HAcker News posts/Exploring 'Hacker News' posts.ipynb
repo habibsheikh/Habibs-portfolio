{
 "cells": [
  {
   "cell_type": "markdown",
   "metadata": {
    "collapsed": true
   },
   "source": [
    "# Exploring 'Hacker News' posts\n",
    "The aim of this project is to examine a dataset on the posts that have been made on the technology blog 'Hacker news'. The dataset includes important information like title of the post, respective url, points(upvotes - downvotes), username of person who posted it, date of post. "
   ]
  },
  {
   "cell_type": "markdown",
   "metadata": {},
   "source": [
    "We are going to focus on the posts that start with 'Ask HN' and 'Show HN', as they are those posts regarding questions being asked as well as products, ideas, etc. being shown, respectively\n",
    "Let us begin by reading in the dataset and defining it as a list of lists-"
   ]
  },
  {
   "cell_type": "code",
   "execution_count": 2,
   "metadata": {
    "scrolled": false
   },
   "outputs": [
    {
     "name": "stdout",
     "output_type": "stream",
     "text": [
      "[['id', 'title', 'url', 'num_points', 'num_comments', 'author', 'created_at'], ['12224879', 'Interactive Dynamic Video', 'http://www.interactivedynamicvideo.com/', '386', '52', 'ne0phyte', '8/4/2016 11:52'], ['10975351', 'How to Use Open Source and Shut the Fuck Up at the Same Time', 'http://hueniverse.com/2016/01/26/how-to-use-open-source-and-shut-the-fuck-up-at-the-same-time/', '39', '10', 'josep2', '1/26/2016 19:30'], ['11964716', \"Florida DJs May Face Felony for April Fools' Water Joke\", 'http://www.thewire.com/entertainment/2013/04/florida-djs-april-fools-water-joke/63798/', '2', '1', 'vezycash', '6/23/2016 22:20'], ['11919867', 'Technology ventures: From Idea to Enterprise', 'https://www.amazon.com/Technology-Ventures-Enterprise-Thomas-Byers/dp/0073523429', '3', '1', 'hswarna', '6/17/2016 0:01']]\n"
     ]
    }
   ],
   "source": [
    "from csv import reader\n",
    "opened_file = open('hacker_news.csv')\n",
    "read_file = reader(opened_file)\n",
    "hn = list(read_file)\n",
    "print(hn[:5])\n",
    "#we print a few rows to inspect the dataset#"
   ]
  },
  {
   "cell_type": "code",
   "execution_count": 3,
   "metadata": {
    "scrolled": true
   },
   "outputs": [
    {
     "name": "stdout",
     "output_type": "stream",
     "text": [
      "['id', 'title', 'url', 'num_points', 'num_comments', 'author', 'created_at']\n",
      "[['12224879', 'Interactive Dynamic Video', 'http://www.interactivedynamicvideo.com/', '386', '52', 'ne0phyte', '8/4/2016 11:52'], ['10975351', 'How to Use Open Source and Shut the Fuck Up at the Same Time', 'http://hueniverse.com/2016/01/26/how-to-use-open-source-and-shut-the-fuck-up-at-the-same-time/', '39', '10', 'josep2', '1/26/2016 19:30'], ['11964716', \"Florida DJs May Face Felony for April Fools' Water Joke\", 'http://www.thewire.com/entertainment/2013/04/florida-djs-april-fools-water-joke/63798/', '2', '1', 'vezycash', '6/23/2016 22:20']]\n"
     ]
    }
   ],
   "source": [
    "headers = hn[0]\n",
    "hn = hn[1:]\n",
    "print(headers)\n",
    "print(hn[:3])"
   ]
  },
  {
   "cell_type": "code",
   "execution_count": 4,
   "metadata": {
    "scrolled": true
   },
   "outputs": [
    {
     "name": "stdout",
     "output_type": "stream",
     "text": [
      "1744\n",
      "1162\n",
      "17194\n"
     ]
    }
   ],
   "source": [
    "ask_posts = []\n",
    "show_posts = []\n",
    "other_posts = []\n",
    "\n",
    "for row in hn:\n",
    "    title = row[1]\n",
    "    title = title.lower()\n",
    "    if title.startswith('ask hn'):\n",
    "        ask_posts.append(row)\n",
    "    elif title.startswith('show hn'):\n",
    "        show_posts.append(row)\n",
    "    else:\n",
    "        other_posts.append(row)\n",
    "print(len(ask_posts))\n",
    "print(len(show_posts))\n",
    "print(len(other_posts))\n",
    "        "
   ]
  },
  {
   "cell_type": "code",
   "execution_count": 5,
   "metadata": {},
   "outputs": [
    {
     "name": "stdout",
     "output_type": "stream",
     "text": [
      "[['12296411', 'Ask HN: How to improve my personal website?', '', '2', '6', 'ahmedbaracat', '8/16/2016 9:55'], ['10610020', 'Ask HN: Am I the only one outraged by Twitter shutting down share counts?', '', '28', '29', 'tkfx', '11/22/2015 13:43'], ['11610310', 'Ask HN: Aby recent changes to CSS that broke mobile?', '', '1', '1', 'polskibus', '5/2/2016 10:14'], ['12210105', 'Ask HN: Looking for Employee #3 How do I do it?', '', '1', '3', 'sph130', '8/2/2016 14:20'], ['10394168', 'Ask HN: Someone offered to buy my browser extension from me. What now?', '', '28', '17', 'roykolak', '10/15/2015 16:38']]\n",
      "\n",
      "\n",
      "[['10627194', 'Show HN: Wio Link  ESP8266 Based Web of Things Hardware Development Platform', 'https://iot.seeed.cc', '26', '22', 'kfihihc', '11/25/2015 14:03'], ['10646440', 'Show HN: Something pointless I made', 'http://dn.ht/picklecat/', '747', '102', 'dhotson', '11/29/2015 22:46'], ['11590768', 'Show HN: Shanhu.io, a programming playground powered by e8vm', 'https://shanhu.io', '1', '1', 'h8liu', '4/28/2016 18:05'], ['12178806', 'Show HN: Webscope  Easy way for web developers to communicate with Clients', 'http://webscopeapp.com', '3', '3', 'fastbrick', '7/28/2016 7:11'], ['10872799', 'Show HN: GeoScreenshot  Easily test Geo-IP based web pages', 'https://www.geoscreenshot.com/', '1', '9', 'kpsychwave', '1/9/2016 20:45']]\n"
     ]
    }
   ],
   "source": [
    "print(ask_posts[:5])\n",
    "print('\\n')\n",
    "print(show_posts[:5])\n",
    "#printing first 5 rows of the ask and show post lists#"
   ]
  },
  {
   "cell_type": "code",
   "execution_count": 6,
   "metadata": {},
   "outputs": [
    {
     "name": "stdout",
     "output_type": "stream",
     "text": [
      "14.038417431192661\n"
     ]
    }
   ],
   "source": [
    "total_ask_comments = 0\n",
    "for row in ask_posts:\n",
    "    num_comments = int(row[4])\n",
    "    total_ask_comments += num_comments\n",
    "    avg_ask_comments = total_ask_comments / len(ask_posts)\n",
    "print(avg_ask_comments)\n"
   ]
  },
  {
   "cell_type": "code",
   "execution_count": 7,
   "metadata": {},
   "outputs": [
    {
     "name": "stdout",
     "output_type": "stream",
     "text": [
      "10.31669535283993\n"
     ]
    }
   ],
   "source": [
    "total_show_comments = 0\n",
    "for row in show_posts:\n",
    "    total_show_comments += int(row[4])\n",
    "    avg_show_comments = total_show_comments / len(show_posts)\n",
    "print(avg_show_comments)\n"
   ]
  },
  {
   "cell_type": "markdown",
   "metadata": {},
   "source": [
    "From the average calculated, it is clear that 'Ask posts' recieve more comments on an average. So now, we are going to focus our remaining analysis just on these posts.\n",
    "Now we will find out if posts made during a certain time are more likely to attract more comments. We will do so by-\n",
    "-calculating posts made in each hour, along with comments recieved.\n",
    "-calculating average number of comments ask posts recieve by hour."
   ]
  },
  {
   "cell_type": "code",
   "execution_count": 8,
   "metadata": {
    "scrolled": true
   },
   "outputs": [
    {
     "name": "stdout",
     "output_type": "stream",
     "text": [
      "[['12296411', 'Ask HN: How to improve my personal website?', '', '2', '6', 'ahmedbaracat', '8/16/2016 9:55'], ['10610020', 'Ask HN: Am I the only one outraged by Twitter shutting down share counts?', '', '28', '29', 'tkfx', '11/22/2015 13:43']]\n"
     ]
    }
   ],
   "source": [
    "print(ask_posts[:2])"
   ]
  },
  {
   "cell_type": "code",
   "execution_count": 9,
   "metadata": {
    "scrolled": true
   },
   "outputs": [
    {
     "data": {
      "text/plain": [
       "{'09': 251,\n",
       " '13': 1253,\n",
       " '10': 793,\n",
       " '14': 1416,\n",
       " '16': 1814,\n",
       " '23': 543,\n",
       " '12': 687,\n",
       " '17': 1146,\n",
       " '15': 4477,\n",
       " '21': 1745,\n",
       " '20': 1722,\n",
       " '02': 1381,\n",
       " '18': 1439,\n",
       " '03': 421,\n",
       " '05': 464,\n",
       " '19': 1188,\n",
       " '01': 683,\n",
       " '22': 479,\n",
       " '08': 492,\n",
       " '04': 337,\n",
       " '00': 447,\n",
       " '06': 397,\n",
       " '07': 267,\n",
       " '11': 641}"
      ]
     },
     "execution_count": 9,
     "metadata": {},
     "output_type": "execute_result"
    }
   ],
   "source": [
    "import datetime as dt\n",
    "result_list = []\n",
    "for post in ask_posts:\n",
    "    result_list.append([post[-1], int(post[4])])\n",
    "\n",
    "counts_by_hour = {}\n",
    "comments_by_hour = {}\n",
    "for row in  result_list:\n",
    "    dateAndtime = row[0]\n",
    "    date_time_object = dt.datetime.strptime(dateAndtime, '%m/%d/%Y %H:%M')\n",
    "    hour = dt.datetime.strftime(date_time_object, '%H')\n",
    "    if hour not in counts_by_hour:\n",
    "        counts_by_hour[hour] = 1\n",
    "        comments_by_hour[hour] = int(row[1])\n",
    "    else:\n",
    "        counts_by_hour[hour] += 1\n",
    "        comments_by_hour[hour] += int(row[1])\n",
    "comments_by_hour\n"
   ]
  },
  {
   "cell_type": "markdown",
   "metadata": {},
   "source": [
    "We have created 2 dictionaries-\n",
    "counts_by_hour is a frequency table holding the number of ask posts created each hour.\n",
    "comments_by_hour is a frequency table holding the number of comments made on ask posts each hour.\n",
    "Now, we are going to calculate the average number of comments per post created during each hour of the day.\n"
   ]
  },
  {
   "cell_type": "code",
   "execution_count": 10,
   "metadata": {},
   "outputs": [
    {
     "data": {
      "text/plain": [
       "[['09', 5.5777777777777775],\n",
       " ['13', 14.741176470588234],\n",
       " ['10', 13.440677966101696],\n",
       " ['14', 13.233644859813085],\n",
       " ['16', 16.796296296296298],\n",
       " ['23', 7.985294117647059],\n",
       " ['12', 9.41095890410959],\n",
       " ['17', 11.46],\n",
       " ['15', 38.5948275862069],\n",
       " ['21', 16.009174311926607],\n",
       " ['20', 21.525],\n",
       " ['02', 23.810344827586206],\n",
       " ['18', 13.20183486238532],\n",
       " ['03', 7.796296296296297],\n",
       " ['05', 10.08695652173913],\n",
       " ['19', 10.8],\n",
       " ['01', 11.383333333333333],\n",
       " ['22', 6.746478873239437],\n",
       " ['08', 10.25],\n",
       " ['04', 7.170212765957447],\n",
       " ['00', 8.127272727272727],\n",
       " ['06', 9.022727272727273],\n",
       " ['07', 7.852941176470588],\n",
       " ['11', 11.051724137931034]]"
      ]
     },
     "execution_count": 10,
     "metadata": {},
     "output_type": "execute_result"
    }
   ],
   "source": [
    "avg_by_hour = []\n",
    "for hourr in comments_by_hour:\n",
    "    avg_by_hour.append([hourr, comments_by_hour[hourr]/counts_by_hour[hourr]])\n",
    "avg_by_hour"
   ]
  },
  {
   "cell_type": "code",
   "execution_count": 11,
   "metadata": {
    "scrolled": true
   },
   "outputs": [
    {
     "name": "stdout",
     "output_type": "stream",
     "text": [
      "[[5.5777777777777775, '09'], [14.741176470588234, '13'], [13.440677966101696, '10'], [13.233644859813085, '14'], [16.796296296296298, '16'], [7.985294117647059, '23'], [9.41095890410959, '12'], [11.46, '17'], [38.5948275862069, '15'], [16.009174311926607, '21'], [21.525, '20'], [23.810344827586206, '02'], [13.20183486238532, '18'], [7.796296296296297, '03'], [10.08695652173913, '05'], [10.8, '19'], [11.383333333333333, '01'], [6.746478873239437, '22'], [10.25, '08'], [7.170212765957447, '04'], [8.127272727272727, '00'], [9.022727272727273, '06'], [7.852941176470588, '07'], [11.051724137931034, '11']]\n",
      "Top 5 hours for Ask Post comments\n",
      "15:00 : 38.59 average comments per post.\n",
      "02:00 : 23.81 average comments per post.\n",
      "20:00 : 21.52 average comments per post.\n",
      "16:00 : 16.80 average comments per post.\n",
      "21:00 : 16.01 average comments per post.\n"
     ]
    }
   ],
   "source": [
    "swap_avg_hour = []\n",
    "for avg in avg_by_hour:\n",
    "    swap_avg_hour.append([avg[1], avg[0]])\n",
    "print(swap_avg_hour)\n",
    "sorted_swap = sorted(swap_avg_hour, reverse= True)\n",
    "print('Top 5 hours for Ask Post comments')\n",
    "for avg in sorted_swap[:5]:\n",
    "    text = '{} : {:.2f} average comments per post.'\n",
    "    Hrr = avg[1]\n",
    "    Hrr = dt.datetime.strptime(Hrr, '%H').strftime('%H:%M')\n",
    "    Avg = avg[0]\n",
    "    print(text.format(Hrr, Avg))"
   ]
  },
  {
   "cell_type": "markdown",
   "metadata": {},
   "source": [
    "# Conclusion #1\n",
    "From the above cell it is clear that 'Ask Hn' Posts created between 15:00(3:00 PM) & 16:00 would recieve the most comments.\n",
    "We have conducted the analysis on only 'Ask Hn' & 'Show Hn' posts which recieved comments, and so it would be more concise to say that of the posts that recieved comments, 'Ask Hn' posts created at 15:00 recieved the highest comments."
   ]
  },
  {
   "cell_type": "markdown",
   "metadata": {},
   "source": [
    "# Further Analysis on Show Hn & Ask Hn posts"
   ]
  },
  {
   "cell_type": "markdown",
   "metadata": {},
   "source": [
    "Now we will find out average number of points recieved by Ask posts and Show posts."
   ]
  },
  {
   "cell_type": "code",
   "execution_count": 12,
   "metadata": {},
   "outputs": [
    {
     "data": {
      "text/plain": [
       "15.061926605504587"
      ]
     },
     "execution_count": 12,
     "metadata": {},
     "output_type": "execute_result"
    }
   ],
   "source": [
    "ask_posts_points = 0\n",
    "for post in ask_posts:\n",
    "    ask_posts_points += int(post[3])\n",
    "    avg_ask_points = ask_posts_points / len(ask_posts)\n",
    "avg_ask_points\n",
    "    \n"
   ]
  },
  {
   "cell_type": "code",
   "execution_count": 13,
   "metadata": {},
   "outputs": [
    {
     "data": {
      "text/plain": [
       "27.555077452667813"
      ]
     },
     "execution_count": 13,
     "metadata": {},
     "output_type": "execute_result"
    }
   ],
   "source": [
    "show_posts_points = 0\n",
    "for post in show_posts:\n",
    "    show_posts_points += int(post[3])\n",
    "    avg_show_points = show_posts_points / len(show_posts)\n",
    "\n",
    "avg_show_points"
   ]
  },
  {
   "cell_type": "markdown",
   "metadata": {},
   "source": [
    "Now we will find out the average number of points recieved by a post created during each hour in a day.\n",
    "Let's start with 'Ask Posts'.\n"
   ]
  },
  {
   "cell_type": "code",
   "execution_count": 18,
   "metadata": {},
   "outputs": [
    {
     "name": "stdout",
     "output_type": "stream",
     "text": [
      "[[29.99137931034483, '15'], [24.258823529411764, '13'], [23.35185185185185, '16'], [19.41, '17'], [18.677966101694917, '10']]\n",
      "\n",
      "\n",
      "At the following hour, most points were recieved by Ask Posts on an average-\n",
      "15:00 : 29.99 points recieved on an average at this hour\n",
      "13:00 : 24.26 points recieved on an average at this hour\n",
      "16:00 : 23.35 points recieved on an average at this hour\n",
      "17:00 : 19.41 points recieved on an average at this hour\n",
      "10:00 : 18.68 points recieved on an average at this hour\n"
     ]
    }
   ],
   "source": [
    "new_ask_list = []\n",
    "for post in ask_posts:\n",
    "    new_ask_list.append([post[-1], int(post[3])])\n",
    "point_counts = {}\n",
    "asks_per_hour = {}\n",
    "for ask in new_ask_list:\n",
    "    timee = ask[0]\n",
    "    time_object = dt.datetime.strptime(timee, '%m/%d/%Y %H:%M')\n",
    "    hour = dt.datetime.strftime(time_object, '%H')\n",
    "    if hour not in asks_per_hour:\n",
    "        point_counts[hour] = 1\n",
    "        asks_per_hour[hour] = ask[1]\n",
    "    else:\n",
    "        point_counts[hour] += 1\n",
    "        asks_per_hour[hour] += ask[1]\n",
    "#now finding the average#\n",
    "avg_ask_points = []\n",
    "for ask in asks_per_hour:\n",
    "    avg_ask_points.append([asks_per_hour[ask]/point_counts[ask], ask])\n",
    "\n",
    "sorted_avg_pointsby_hour = sorted(avg_ask_points, reverse = True)\n",
    "print(sorted_avg_pointsby_hour[:5])\n",
    "print('\\n')\n",
    "print('At the following hour, most points were recieved by Ask Posts on an average-')\n",
    "for pointt in sorted_avg_pointsby_hour[:5]:\n",
    "    hrr = pointt[1]\n",
    "    hrr = dt.datetime.strptime(hrr, '%H').strftime('%H:%M')\n",
    "    textt = '{} : {:.2f} points recieved on an average at this hour'\n",
    "    print(textt.format(hrr, pointt[0]))"
   ]
  },
  {
   "cell_type": "markdown",
   "metadata": {},
   "source": [
    "The most points recieved by an 'Ask Hn' post was between 3pm and 4pm.\n",
    "Let's do the same for Show Posts now-"
   ]
  },
  {
   "cell_type": "code",
   "execution_count": 19,
   "metadata": {},
   "outputs": [
    {
     "name": "stdout",
     "output_type": "stream",
     "text": [
      "[[42.388888888888886, '23'], [41.68852459016394, '12'], [40.34782608695652, '22'], [37.83870967741935, '00'], [36.31147540983606, '18']]\n",
      "At the following hour, most points were recieved by Show Posts on an average-\n",
      "23:00 : 42.39 points on average\n",
      "12:00 : 41.69 points on average\n",
      "22:00 : 40.35 points on average\n",
      "00:00 : 37.84 points on average\n",
      "18:00 : 36.31 points on average\n"
     ]
    }
   ],
   "source": [
    "new_show_list = []\n",
    "for post in show_posts:\n",
    "    new_show_list.append([post[-1], int(post[3])])\n",
    "\n",
    "show_counts = {}\n",
    "show_points = {}\n",
    "for post in new_show_list:\n",
    "    timee = post[0]\n",
    "    time_object = dt.datetime.strptime(timee, '%m/%d/%Y %H:%M')\n",
    "    hour = dt.datetime.strftime(time_object, '%H')\n",
    "    if hour not in show_counts:\n",
    "        show_counts[hour] = 1\n",
    "        show_points[hour] = post[1]\n",
    "    else:\n",
    "        show_counts[hour] += 1\n",
    "        show_points[hour] += post[1]\n",
    "show_points\n",
    "avg_show_points = []\n",
    "for key in show_points:\n",
    "    avg_show_points.append([show_points[key]/show_counts[key], key])\n",
    "sorted_avg_show_points = sorted(avg_show_points, reverse = True)\n",
    "\n",
    "print(sorted_avg_show_points[:5])\n",
    "print('At the following hour, most points were recieved by Show Posts on an average-')\n",
    "for point in sorted_avg_show_points[:5]:\n",
    "    hrr = point[1]\n",
    "    hrr = dt.datetime.strptime(hrr, '%H').strftime('%H:%M')\n",
    "    text = '{} : {:.2f} points on average'\n",
    "    print(text.format(hrr, point[0]))"
   ]
  },
  {
   "cell_type": "markdown",
   "metadata": {},
   "source": [
    "# Conclusion #2\n",
    "'Show Hn' posts recieved more points on an average between 11pm and 12am.\n",
    "It is clear now that 'Show Hn' posts recieve more points than 'Ask Hn' posts despite 'Ask Hn' posts recieving more comments. The reason for this could probably be that 'Ask Hn' posts are about questions and doubts, and thus lead to further debate, explaination in the comments and 'Show Hn' posts are about showing off an idea, technology etc. and thus more interaction is made through the like and dislike button."
   ]
  }
 ],
 "metadata": {
  "kernelspec": {
   "display_name": "Python 3",
   "language": "python",
   "name": "python3"
  },
  "language_info": {
   "codemirror_mode": {
    "name": "ipython",
    "version": 3
   },
   "file_extension": ".py",
   "mimetype": "text/x-python",
   "name": "python",
   "nbconvert_exporter": "python",
   "pygments_lexer": "ipython3",
   "version": "3.8.3"
  }
 },
 "nbformat": 4,
 "nbformat_minor": 2
}
